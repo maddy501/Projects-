{
  "nbformat": 4,
  "nbformat_minor": 0,
  "metadata": {
    "colab": {
      "name": "Supervised_Learning_Invoices.ipynb",
      "provenance": [],
      "collapsed_sections": [],
      "toc_visible": true
    },
    "kernelspec": {
      "name": "python3",
      "display_name": "Python 3"
    }
  },
  "cells": [
    {
      "cell_type": "markdown",
      "metadata": {
        "id": "RiJUR9K9Jfd6"
      },
      "source": [
        "# **Libraries**"
      ]
    },
    {
      "cell_type": "code",
      "metadata": {
        "id": "I3MK8e5DJn8e",
        "colab": {
          "base_uri": "https://localhost:8080/"
        },
        "outputId": "e8ab8d7a-d043-4326-aa3c-fe5640922688"
      },
      "source": [
        "import pandas as pd\n",
        "import numpy as np\n",
        "from nltk import word_tokenize\n",
        "import re\n",
        "import nltk\n",
        "import pickle\n",
        "nltk.download('stopwords')\n",
        "from nltk.corpus import stopwords\n",
        "from sklearn.feature_extraction.text import CountVectorizer\n",
        "from sklearn.feature_extraction.text import TfidfTransformer\n",
        "from sklearn.cluster import KMeans\n",
        "from keras.layers import SimpleRNN"
      ],
      "execution_count": null,
      "outputs": [
        {
          "output_type": "stream",
          "text": [
            "[nltk_data] Downloading package stopwords to /root/nltk_data...\n",
            "[nltk_data]   Package stopwords is already up-to-date!\n"
          ],
          "name": "stdout"
        }
      ]
    },
    {
      "cell_type": "markdown",
      "metadata": {
        "id": "ctgK3Y1CJYPj"
      },
      "source": [
        "# **Import Data**"
      ]
    },
    {
      "cell_type": "code",
      "metadata": {
        "id": "BNXNalS8Z2cR",
        "colab": {
          "base_uri": "https://localhost:8080/"
        },
        "outputId": "ba87a72b-5260-4176-bd5c-b36bc82d5124"
      },
      "source": [
        "dataset = pd.read_csv('labled_data.csv',encoding='mac_roman')\n",
        "data = dataset[['VENDOR_NAME','LINE_DESCRIPTION','Category']]\n",
        "data.info()"
      ],
      "execution_count": null,
      "outputs": [
        {
          "output_type": "stream",
          "text": [
            "<class 'pandas.core.frame.DataFrame'>\n",
            "RangeIndex: 965907 entries, 0 to 965906\n",
            "Data columns (total 3 columns):\n",
            " #   Column            Non-Null Count   Dtype \n",
            "---  ------            --------------   ----- \n",
            " 0   VENDOR_NAME       965907 non-null  object\n",
            " 1   LINE_DESCRIPTION  960741 non-null  object\n",
            " 2   Category          911590 non-null  object\n",
            "dtypes: object(3)\n",
            "memory usage: 22.1+ MB\n"
          ],
          "name": "stdout"
        }
      ]
    },
    {
      "cell_type": "code",
      "metadata": {
        "id": "T-0RLVDbalDg",
        "colab": {
          "base_uri": "https://localhost:8080/"
        },
        "outputId": "92f8ac30-c095-4e5e-fc0c-41c408c78e03"
      },
      "source": [
        "#removing null records\n",
        "data.dropna(inplace=True)\n",
        "print(data.isna().sum())\n"
      ],
      "execution_count": null,
      "outputs": [
        {
          "output_type": "stream",
          "text": [
            "VENDOR_NAME         0\n",
            "LINE_DESCRIPTION    0\n",
            "Category            0\n",
            "dtype: int64\n"
          ],
          "name": "stdout"
        },
        {
          "output_type": "stream",
          "text": [
            "/usr/local/lib/python3.6/dist-packages/ipykernel_launcher.py:2: SettingWithCopyWarning: \n",
            "A value is trying to be set on a copy of a slice from a DataFrame\n",
            "\n",
            "See the caveats in the documentation: https://pandas.pydata.org/pandas-docs/stable/user_guide/indexing.html#returning-a-view-versus-a-copy\n",
            "  \n"
          ],
          "name": "stderr"
        }
      ]
    },
    {
      "cell_type": "markdown",
      "metadata": {
        "id": "yk8IT318eMw-"
      },
      "source": [
        "# **Separate Features from Labels**"
      ]
    },
    {
      "cell_type": "code",
      "metadata": {
        "id": "wBylzQ07ePug"
      },
      "source": [
        "features = data[['VENDOR_NAME','LINE_DESCRIPTION']]\n",
        "label = data[['Category']]\n"
      ],
      "execution_count": null,
      "outputs": []
    },
    {
      "cell_type": "code",
      "metadata": {
        "id": "J756YxCU4YC1",
        "colab": {
          "base_uri": "https://localhost:8080/"
        },
        "outputId": "519b8585-c8de-405d-f760-ffb326638ff1"
      },
      "source": [
        "!wget http://nlp.stanford.edu/data/glove.6B.zip\n"
      ],
      "execution_count": null,
      "outputs": [
        {
          "output_type": "stream",
          "text": [
            "--2020-11-06 04:59:20--  http://nlp.stanford.edu/data/glove.6B.zip\n",
            "Resolving nlp.stanford.edu (nlp.stanford.edu)... 171.64.67.140\n",
            "Connecting to nlp.stanford.edu (nlp.stanford.edu)|171.64.67.140|:80... connected.\n",
            "HTTP request sent, awaiting response... 302 Found\n",
            "Location: https://nlp.stanford.edu/data/glove.6B.zip [following]\n",
            "--2020-11-06 04:59:20--  https://nlp.stanford.edu/data/glove.6B.zip\n",
            "Connecting to nlp.stanford.edu (nlp.stanford.edu)|171.64.67.140|:443... connected.\n",
            "HTTP request sent, awaiting response... 301 Moved Permanently\n",
            "Location: http://downloads.cs.stanford.edu/nlp/data/glove.6B.zip [following]\n",
            "--2020-11-06 04:59:20--  http://downloads.cs.stanford.edu/nlp/data/glove.6B.zip\n",
            "Resolving downloads.cs.stanford.edu (downloads.cs.stanford.edu)... 171.64.64.22\n",
            "Connecting to downloads.cs.stanford.edu (downloads.cs.stanford.edu)|171.64.64.22|:80... connected.\n",
            "HTTP request sent, awaiting response... 200 OK\n",
            "Length: 862182613 (822M) [application/zip]\n",
            "Saving to: ‘glove.6B.zip’\n",
            "\n",
            "glove.6B.zip        100%[===================>] 822.24M  1.98MB/s    in 6m 27s  \n",
            "\n",
            "2020-11-06 05:05:47 (2.13 MB/s) - ‘glove.6B.zip’ saved [862182613/862182613]\n",
            "\n"
          ],
          "name": "stdout"
        }
      ]
    },
    {
      "cell_type": "code",
      "metadata": {
        "id": "XwgfNCK64zIp",
        "colab": {
          "base_uri": "https://localhost:8080/"
        },
        "outputId": "bca05f9f-e83d-4f23-c2f1-c1d723e086ee"
      },
      "source": [
        "!unzip glove*.zip"
      ],
      "execution_count": null,
      "outputs": [
        {
          "output_type": "stream",
          "text": [
            "Archive:  glove.6B.zip\n",
            "  inflating: glove.6B.50d.txt        \n",
            "  inflating: glove.6B.100d.txt       \n",
            "  inflating: glove.6B.200d.txt       \n",
            "  inflating: glove.6B.300d.txt       \n"
          ],
          "name": "stdout"
        }
      ]
    },
    {
      "cell_type": "code",
      "metadata": {
        "id": "NHM25FUyBt6c"
      },
      "source": [
        "from keras.preprocessing.text import Tokenizer \n",
        "from keras.preprocessing.sequence import pad_sequences  \n",
        "from keras.utils import to_categorical \n",
        "from sklearn.model_selection import train_test_split"
      ],
      "execution_count": null,
      "outputs": []
    },
    {
      "cell_type": "code",
      "metadata": {
        "id": "Est-V8b2aYsv",
        "colab": {
          "base_uri": "https://localhost:8080/"
        },
        "outputId": "31e3e9de-909f-4974-aeb9-40ddece115fd"
      },
      "source": [
        "#ONE HOT ENCODING OF LABELS \n",
        "label['Category'] = label['Category'].astype('category')\n",
        "label['Category'] = label['Category'].cat.codes\n",
        "y = to_categorical(label['Category'])"
      ],
      "execution_count": null,
      "outputs": [
        {
          "output_type": "stream",
          "text": [
            "/usr/local/lib/python3.6/dist-packages/ipykernel_launcher.py:2: SettingWithCopyWarning: \n",
            "A value is trying to be set on a copy of a slice from a DataFrame.\n",
            "Try using .loc[row_indexer,col_indexer] = value instead\n",
            "\n",
            "See the caveats in the documentation: https://pandas.pydata.org/pandas-docs/stable/user_guide/indexing.html#returning-a-view-versus-a-copy\n",
            "  \n",
            "/usr/local/lib/python3.6/dist-packages/ipykernel_launcher.py:3: SettingWithCopyWarning: \n",
            "A value is trying to be set on a copy of a slice from a DataFrame.\n",
            "Try using .loc[row_indexer,col_indexer] = value instead\n",
            "\n",
            "See the caveats in the documentation: https://pandas.pydata.org/pandas-docs/stable/user_guide/indexing.html#returning-a-view-versus-a-copy\n",
            "  This is separate from the ipykernel package so we can avoid doing imports until\n"
          ],
          "name": "stderr"
        }
      ]
    },
    {
      "cell_type": "code",
      "metadata": {
        "id": "SBpdmmHJBwG5",
        "colab": {
          "base_uri": "https://localhost:8080/"
        },
        "outputId": "15e48f91-cada-4901-d3e2-765a44b17c7f"
      },
      "source": [
        "tokenizer = Tokenizer(num_words=5000)\n",
        "tokenizer.fit_on_texts(data.LINE_DESCRIPTION)\n",
        "prep_data = tokenizer.texts_to_sequences(data.LINE_DESCRIPTION)\n",
        "prep_data = pad_sequences(prep_data, maxlen=20)\n",
        "\n",
        "# Print the shapes\n",
        "print(prep_data.shape)\n",
        "print(y.shape)\n",
        "\n",
        "\n",
        "X_train,X_test,y_train,y_test = train_test_split(\n",
        "                                                prep_data, y,  \n",
        "                                                test_size=0.3,  \n",
        "                                                random_state=1000)\n",
        "\n",
        "\n"
      ],
      "execution_count": null,
      "outputs": [
        {
          "output_type": "stream",
          "text": [
            "(906863, 20)\n",
            "(906863, 202)\n"
          ],
          "name": "stdout"
        }
      ]
    },
    {
      "cell_type": "markdown",
      "metadata": {
        "id": "vUJikCyfQgs1"
      },
      "source": [
        "**Note:**\n",
        "Models are implemented using both classes and without classes. Due to execution time only code without classes was run and output is displayed. "
      ]
    },
    {
      "cell_type": "markdown",
      "metadata": {
        "id": "xHS6cDkmOOsZ"
      },
      "source": [
        "# **LSTM MODEL**"
      ]
    },
    {
      "cell_type": "code",
      "metadata": {
        "id": "VhmCuJHdISuG"
      },
      "source": [
        "class My_LSTM: \n",
        "\n",
        "  def __init__(self,vocabulary_size, wordvec_dim):\n",
        "    self.vocabulary_size = vocabulary_size\n",
        "    self.wordvec_dim = wordvec_dim\n",
        "  \n",
        "  def create_LSTM_model():\n",
        "    vocabulary_size = 318618\n",
        "    wordvec_dim = 300\n",
        "    model = Sequential()\n",
        "    model.add(Embedding(input_dim=vocabulary_size, output_dim=wordvec_dim, input_length=200))\n",
        "    model.add(LSTM(64, return_sequences=True, dropout=0.2, recurrent_dropout=0.15))\n",
        "    model.add(LSTM(64, return_sequences=False, dropout=0.2, recurrent_dropout=0.15))\n",
        "    model.add(Dense(16))\n",
        "    model.add(Dense(202, activation='sigmoid'))\n",
        "    model.compile(loss='categorical_crossentropy', optimizer='adam', metrics=['accuracy'])\n",
        "    model.summary()\n",
        "\n",
        "  def LSTM_fit(X_train, y_train,X_test, y_test,verbose):\n",
        "    history = model.fit(X_train,y_train,\n",
        "                    epochs=10,\n",
        "                    validation_data=(X_test, y_test),\n",
        "                    batch_size=300)\n",
        "    loss, acc = model.evaluate(X_test, y_test, verbose=0)\n",
        "    print(\"Loss: {0} \\nAccuracy: {1}\".format(loss, acc))"
      ],
      "execution_count": null,
      "outputs": []
    },
    {
      "cell_type": "code",
      "metadata": {
        "id": "j7sfBD8ALF7v"
      },
      "source": [
        "vocabulary_size = 318618\n",
        "wordvec_dim = 300\n",
        "My_LSTM(vocabulary_size,wordvec_dim)"
      ],
      "execution_count": null,
      "outputs": []
    },
    {
      "cell_type": "code",
      "metadata": {
        "id": "gA4OL6WwMKcK"
      },
      "source": [
        "My_LSTM.create_LSTM_model()"
      ],
      "execution_count": null,
      "outputs": []
    },
    {
      "cell_type": "code",
      "metadata": {
        "id": "1KANS2M_OY_9"
      },
      "source": [
        "My_LSTM.LSTM_fit(X_train,y_train,X_test,y_test,0)"
      ],
      "execution_count": null,
      "outputs": []
    },
    {
      "cell_type": "code",
      "metadata": {
        "id": "iuoF1Q3uDlM2",
        "colab": {
          "base_uri": "https://localhost:8080/"
        },
        "outputId": "2ca1d640-5bc2-404b-9905-db7c169723b6"
      },
      "source": [
        "from keras.layers.recurrent import LSTM\n",
        "from keras.models import Sequential\n",
        "from keras.layers import Activation, Dense\n",
        "from keras.layers import Embedding\n",
        "\n",
        "vocabulary_size = 318618\n",
        "wordvec_dim = 300\n",
        "\n",
        "model = Sequential()\n",
        "model.add(Embedding(input_dim=vocabulary_size, output_dim=wordvec_dim, input_length=200))\n",
        "model.add(LSTM(64, return_sequences=True, dropout=0.2, recurrent_dropout=0.15))\n",
        "model.add(LSTM(64, return_sequences=False, dropout=0.2, recurrent_dropout=0.15))\n",
        "model.add(Dense(16))\n",
        "model.add(Dense(202, activation='sigmoid'))\n",
        "model.compile(loss='categorical_crossentropy', optimizer='adam', metrics=['accuracy'])\n",
        "\n",
        "model.summary()"
      ],
      "execution_count": null,
      "outputs": [
        {
          "output_type": "stream",
          "text": [
            "Model: \"sequential_8\"\n",
            "_________________________________________________________________\n",
            "Layer (type)                 Output Shape              Param #   \n",
            "=================================================================\n",
            "embedding_8 (Embedding)      (None, 200, 300)          95585400  \n",
            "_________________________________________________________________\n",
            "lstm_4 (LSTM)                (None, 200, 64)           93440     \n",
            "_________________________________________________________________\n",
            "lstm_5 (LSTM)                (None, 64)                33024     \n",
            "_________________________________________________________________\n",
            "dense_4 (Dense)              (None, 16)                1040      \n",
            "_________________________________________________________________\n",
            "dense_5 (Dense)              (None, 202)               3434      \n",
            "=================================================================\n",
            "Total params: 95,716,338\n",
            "Trainable params: 95,716,338\n",
            "Non-trainable params: 0\n",
            "_________________________________________________________________\n"
          ],
          "name": "stdout"
        }
      ]
    },
    {
      "cell_type": "code",
      "metadata": {
        "id": "bc9YZF4R_ENZ",
        "colab": {
          "base_uri": "https://localhost:8080/"
        },
        "outputId": "ac59b7c6-36dd-4e0e-aabd-c9eda0bd038a"
      },
      "source": [
        "history = model.fit(X_train, y_train,\n",
        "                    epochs=10,\n",
        "                    validation_data=(X_test, y_test),\n",
        "                    batch_size=300)"
      ],
      "execution_count": null,
      "outputs": [
        {
          "output_type": "stream",
          "text": [
            "Epoch 1/10\n",
            "744/744 [==============================] - ETA: 0s - loss: 0.0032 - accuracy: 0.9992WARNING:tensorflow:Model was constructed with shape (None, 200) for input Tensor(\"embedding_4_input:0\", shape=(None, 200), dtype=float32), but it was called on an input with incompatible shape (None, 20).\n",
            "744/744 [==============================] - 980s 1s/step - loss: 0.0032 - accuracy: 0.9992 - val_loss: 0.0018 - val_accuracy: 0.9995\n",
            "Epoch 2/10\n",
            "744/744 [==============================] - 944s 1s/step - loss: 0.0012 - accuracy: 0.9997 - val_loss: 0.0016 - val_accuracy: 0.9996\n",
            "Epoch 3/10\n",
            "744/744 [==============================] - 948s 1s/step - loss: 6.4846e-04 - accuracy: 0.9998 - val_loss: 0.0016 - val_accuracy: 0.9996\n",
            "Epoch 4/10\n",
            "744/744 [==============================] - 940s 1s/step - loss: 5.3625e-04 - accuracy: 0.9999 - val_loss: 0.0019 - val_accuracy: 0.9996\n",
            "Epoch 5/10\n",
            "744/744 [==============================] - 944s 1s/step - loss: 4.4452e-04 - accuracy: 0.9999 - val_loss: 0.0019 - val_accuracy: 0.9996\n",
            "Epoch 6/10\n",
            "744/744 [==============================] - 942s 1s/step - loss: 3.6613e-04 - accuracy: 0.9999 - val_loss: 0.0019 - val_accuracy: 0.9997\n",
            "Epoch 7/10\n",
            "744/744 [==============================] - 947s 1s/step - loss: 3.9554e-04 - accuracy: 0.9999 - val_loss: 0.0020 - val_accuracy: 0.9996\n",
            "Epoch 8/10\n",
            "744/744 [==============================] - 953s 1s/step - loss: 3.5171e-04 - accuracy: 0.9999 - val_loss: 0.0019 - val_accuracy: 0.9996\n",
            "Epoch 9/10\n",
            "744/744 [==============================] - 954s 1s/step - loss: 2.6409e-04 - accuracy: 0.9999 - val_loss: 0.0018 - val_accuracy: 0.9997\n",
            "Epoch 10/10\n",
            "744/744 [==============================] - 945s 1s/step - loss: 2.4773e-04 - accuracy: 0.9999 - val_loss: 0.0021 - val_accuracy: 0.9997\n"
          ],
          "name": "stdout"
        }
      ]
    },
    {
      "cell_type": "code",
      "metadata": {
        "id": "EbjyAv_bq3D3",
        "colab": {
          "base_uri": "https://localhost:8080/"
        },
        "outputId": "c3e30e68-f9f5-4bd5-c8f1-fc4d3ee53310"
      },
      "source": [
        "loss, acc = model.evaluate(X_test, y_test, verbose=0)\n",
        "print(\"Loss: {0} \\nAccuracy: {1}\".format(loss, acc))"
      ],
      "execution_count": null,
      "outputs": [
        {
          "output_type": "stream",
          "text": [
            "Loss: 0.002125105354934931 \n",
            "Accuracy: 0.9996861219406128\n"
          ],
          "name": "stdout"
        }
      ]
    },
    {
      "cell_type": "markdown",
      "metadata": {
        "id": "2nbYo_nOmCdL"
      },
      "source": [
        "# **RNN Model**"
      ]
    },
    {
      "cell_type": "code",
      "metadata": {
        "id": "PUQFmdnvOuv9"
      },
      "source": [
        "class My_RNN: \n",
        "\n",
        "  def __init__(self,vocabulary_size, wordvec_dim):\n",
        "    self.vocabulary_size = vocabulary_size\n",
        "    self.wordvec_dim = wordvec_dim\n",
        "  \n",
        "  def create_RNN_model():\n",
        "    vocabulary_size = 318618\n",
        "    wordvec_dim = 300\n",
        "    model_RNN = Sequential(name=\"emb_model\")\n",
        "    model_RNN.add(Embedding(input_dim=vocabulary_size, output_dim=wordvec_dim, input_length=200))\n",
        "    model_RNN.add(SimpleRNN(units=128))\n",
        "    model_RNN.add(Dense(202, activation='sigmoid'))\n",
        "    model_RNN.compile(loss='categorical_crossentropy', optimizer='adam', metrics=['accuracy'])\n",
        "\n",
        "  def RNN_fit(X_train, y_train,X_test, y_test,verbose):\n",
        "    history_RNN = model_RNN.fit(X_train, y_train,\n",
        "                    epochs=10,\n",
        "                    validation_data=(X_test, y_test),\n",
        "                    batch_size=300)\n",
        "    loss, acc = model_RNN.evaluate(X_test, y_test, verbose=0)\n",
        "    print(\"Loss: {0} \\nAccuracy: {1}\".format(loss, acc))"
      ],
      "execution_count": null,
      "outputs": []
    },
    {
      "cell_type": "code",
      "metadata": {
        "id": "SweqpkpjPdpX",
        "colab": {
          "base_uri": "https://localhost:8080/"
        },
        "outputId": "8b6e267f-1611-4827-b002-0a0d182afc3c"
      },
      "source": [
        "vocabulary_size = 318618\n",
        "wordvec_dim = 300\n",
        "My_RNN(vocabulary_size,wordvec_dim)"
      ],
      "execution_count": null,
      "outputs": [
        {
          "output_type": "execute_result",
          "data": {
            "text/plain": [
              "<__main__.My_RNN at 0x7f9d95c20198>"
            ]
          },
          "metadata": {
            "tags": []
          },
          "execution_count": 76
        }
      ]
    },
    {
      "cell_type": "code",
      "metadata": {
        "id": "g8xJxNZLPi3t"
      },
      "source": [
        "My_RNN.create_RNN_model()"
      ],
      "execution_count": null,
      "outputs": []
    },
    {
      "cell_type": "code",
      "metadata": {
        "id": "db8LU2GUP10Y"
      },
      "source": [
        "My_RNN.RNN_fit(X_train, y_train,X_test, y_test,0)"
      ],
      "execution_count": null,
      "outputs": []
    },
    {
      "cell_type": "code",
      "metadata": {
        "id": "pf95zg4CmGg5"
      },
      "source": [
        "vocabulary_size = 318618\n",
        "wordvec_dim = 300\n",
        "\n",
        "model_RNN = Sequential(name=\"emb_model\")\n",
        "model_RNN.add(Embedding(input_dim=vocabulary_size, output_dim=wordvec_dim, input_length=200))\n",
        "model_RNN.add(SimpleRNN(units=128))\n",
        "model_RNN.add(Dense(202, activation='sigmoid'))\n",
        "model_RNN.compile(loss='categorical_crossentropy', optimizer='adam', metrics=['accuracy'])"
      ],
      "execution_count": null,
      "outputs": []
    },
    {
      "cell_type": "code",
      "metadata": {
        "id": "c696JbT8tejQ",
        "colab": {
          "base_uri": "https://localhost:8080/"
        },
        "outputId": "b6d9bef3-1515-4595-faa3-717509ee19be"
      },
      "source": [
        "history_RNN = model_RNN.fit(X_train, y_train,\n",
        "                    epochs=10,\n",
        "                    validation_data=(X_test, y_test),\n",
        "                    batch_size=300)"
      ],
      "execution_count": null,
      "outputs": [
        {
          "output_type": "stream",
          "text": [
            "Epoch 1/10\n",
            "WARNING:tensorflow:Model was constructed with shape (None, 200) for input Tensor(\"embedding_4_input:0\", shape=(None, 200), dtype=float32), but it was called on an input with incompatible shape (None, 20).\n",
            "WARNING:tensorflow:Model was constructed with shape (None, 200) for input Tensor(\"embedding_4_input:0\", shape=(None, 200), dtype=float32), but it was called on an input with incompatible shape (None, 20).\n",
            "744/744 [==============================] - ETA: 0s - loss: 1.7868 - accuracy: 0.6260WARNING:tensorflow:Model was constructed with shape (None, 200) for input Tensor(\"embedding_4_input:0\", shape=(None, 200), dtype=float32), but it was called on an input with incompatible shape (None, 20).\n",
            "744/744 [==============================] - 761s 1s/step - loss: 1.7868 - accuracy: 0.6260 - val_loss: 0.9548 - val_accuracy: 0.7935\n",
            "Epoch 2/10\n",
            "744/744 [==============================] - 758s 1s/step - loss: 0.7768 - accuracy: 0.8264 - val_loss: 0.7072 - val_accuracy: 0.8396\n",
            "Epoch 3/10\n",
            "744/744 [==============================] - 756s 1s/step - loss: 0.5989 - accuracy: 0.8607 - val_loss: 0.6211 - val_accuracy: 0.8553\n",
            "Epoch 4/10\n",
            "744/744 [==============================] - 756s 1s/step - loss: 0.5045 - accuracy: 0.8800 - val_loss: 0.5478 - val_accuracy: 0.8745\n",
            "Epoch 5/10\n",
            "744/744 [==============================] - 759s 1s/step - loss: 0.4376 - accuracy: 0.8946 - val_loss: 0.5162 - val_accuracy: 0.8810\n",
            "Epoch 6/10\n",
            "744/744 [==============================] - 757s 1s/step - loss: 0.3974 - accuracy: 0.9032 - val_loss: 0.5214 - val_accuracy: 0.8806\n",
            "Epoch 7/10\n",
            "744/744 [==============================] - 758s 1s/step - loss: 0.3607 - accuracy: 0.9109 - val_loss: 0.4870 - val_accuracy: 0.8888\n",
            "Epoch 8/10\n",
            "744/744 [==============================] - 760s 1s/step - loss: 0.3286 - accuracy: 0.9179 - val_loss: 0.4776 - val_accuracy: 0.8924\n",
            "Epoch 9/10\n",
            "744/744 [==============================] - 758s 1s/step - loss: 0.3053 - accuracy: 0.9233 - val_loss: 0.4870 - val_accuracy: 0.8910\n",
            "Epoch 10/10\n",
            "744/744 [==============================] - 758s 1s/step - loss: 0.2853 - accuracy: 0.9278 - val_loss: 0.4737 - val_accuracy: 0.8946\n"
          ],
          "name": "stdout"
        }
      ]
    },
    {
      "cell_type": "code",
      "metadata": {
        "id": "woMt5txwXV07",
        "colab": {
          "base_uri": "https://localhost:8080/"
        },
        "outputId": "f3961334-815b-42fb-dbb9-2258b2c7bc63"
      },
      "source": [
        "loss, acc = model_RNN.evaluate(X_test, y_test, verbose=0)\n",
        "print(\"Loss: {0} \\nAccuracy: {1}\".format(loss, acc))"
      ],
      "execution_count": null,
      "outputs": [
        {
          "output_type": "stream",
          "text": [
            "Loss: 0.4737358093261719 \n",
            "Accuracy: 0.8945766091346741\n"
          ],
          "name": "stdout"
        }
      ]
    },
    {
      "cell_type": "markdown",
      "metadata": {
        "id": "BkHZJbGaoP06"
      },
      "source": [
        "# **CNN Model**"
      ]
    },
    {
      "cell_type": "code",
      "metadata": {
        "id": "B4qedu32oQ_G"
      },
      "source": [
        "import numpy as np\n",
        "\n",
        "def create_embedding_matrix(filepath, word_index, embedding_dim):\n",
        "    vocab_size = len(word_index) + 1  \n",
        "    # Adding again 1 because of reserved 0 index\n",
        "    embedding_matrix = np.zeros((vocab_size, embedding_dim))\n",
        "\n",
        "    with open(filepath) as f:\n",
        "        for line in f:\n",
        "            word, *vector = line.split()\n",
        "            if word in word_index:\n",
        "                idx = word_index[word] \n",
        "                embedding_matrix[idx] = np.array(\n",
        "                                        vector, dtype=np.float32)[:embedding_dim]\n",
        "                                        \n",
        "\n",
        "    return embedding_matrix"
      ],
      "execution_count": null,
      "outputs": []
    },
    {
      "cell_type": "code",
      "metadata": {
        "id": "JfltLv-hqUJa"
      },
      "source": [
        "embedding_dim = 50\n",
        "embedding_matrix = create_embedding_matrix('glove.6B.50d.txt' ,\n",
        "                                            tokenizer.word_index,  \n",
        "                                            embedding_dim)"
      ],
      "execution_count": null,
      "outputs": []
    },
    {
      "cell_type": "code",
      "metadata": {
        "id": "CZj7k4nrX6xm",
        "colab": {
          "base_uri": "https://localhost:8080/"
        },
        "outputId": "dae068cc-fcc6-4e02-9007-47ff4612a1df"
      },
      "source": [
        "from keras.models import Sequential\n",
        "from keras import layers\n",
        "embedding_dim = 100\n",
        "vocabulary_size = 318618\n",
        "wordvec_dim = 300\n",
        "\n",
        "model_CNN = Sequential()\n",
        "model_CNN.add(layers.Embedding(vocabulary_size, embedding_dim, input_length=200))\n",
        "model_CNN.add(layers.Conv1D(128, 5, activation='relu'))\n",
        "model_CNN.add(layers.GlobalMaxPooling1D())\n",
        "model_CNN.add(layers.Dense(10, activation='relu'))\n",
        "model_CNN.add(layers.Dense(202, activation='sigmoid'))\n",
        "model_CNN.compile(optimizer='adam',\n",
        "              loss='categorical_crossentropy',\n",
        "              metrics=['accuracy'])\n",
        "history = model_CNN.fit(X_train, y_train,\n",
        "                    epochs=5,\n",
        "                    validation_data=(X_test, y_test),\n",
        "                    batch_size=100)"
      ],
      "execution_count": null,
      "outputs": [
        {
          "output_type": "stream",
          "text": [
            "Epoch 1/5\n",
            "WARNING:tensorflow:Model was constructed with shape (None, 200) for input Tensor(\"embedding_8_input:0\", shape=(None, 200), dtype=float32), but it was called on an input with incompatible shape (None, 20).\n",
            "WARNING:tensorflow:Model was constructed with shape (None, 200) for input Tensor(\"embedding_8_input:0\", shape=(None, 200), dtype=float32), but it was called on an input with incompatible shape (None, 20).\n",
            "2231/2231 [==============================] - ETA: 0s - loss: 1.3273 - accuracy: 0.6681WARNING:tensorflow:Model was constructed with shape (None, 200) for input Tensor(\"embedding_8_input:0\", shape=(None, 200), dtype=float32), but it was called on an input with incompatible shape (None, 20).\n",
            "2231/2231 [==============================] - 751s 337ms/step - loss: 1.3273 - accuracy: 0.6681 - val_loss: 0.7495 - val_accuracy: 0.8358\n",
            "Epoch 2/5\n",
            "2231/2231 [==============================] - 747s 335ms/step - loss: 0.6503 - accuracy: 0.8545 - val_loss: 0.6335 - val_accuracy: 0.8595\n",
            "Epoch 3/5\n",
            "2231/2231 [==============================] - 749s 336ms/step - loss: 0.5469 - accuracy: 0.8738 - val_loss: 0.5884 - val_accuracy: 0.8692\n",
            "Epoch 4/5\n",
            "2231/2231 [==============================] - 749s 336ms/step - loss: 0.4810 - accuracy: 0.8860 - val_loss: 0.5599 - val_accuracy: 0.8759\n",
            "Epoch 5/5\n",
            "2231/2231 [==============================] - 752s 337ms/step - loss: 0.4259 - accuracy: 0.8980 - val_loss: 0.5465 - val_accuracy: 0.8823\n"
          ],
          "name": "stdout"
        }
      ]
    },
    {
      "cell_type": "code",
      "metadata": {
        "id": "POSgToAR2X8K",
        "colab": {
          "base_uri": "https://localhost:8080/"
        },
        "outputId": "8debb497-4e74-487d-d912-8b44c82193b4"
      },
      "source": [
        "loss, acc = model_CNN.evaluate(X_test, y_test, verbose=0)\n",
        "print(\"Loss: {0} \\nAccuracy: {1}\".format(loss, acc))"
      ],
      "execution_count": null,
      "outputs": [
        {
          "output_type": "stream",
          "text": [
            "Loss: 0.5465325117111206 \n",
            "Accuracy: 0.8823258876800537\n"
          ],
          "name": "stdout"
        }
      ]
    },
    {
      "cell_type": "code",
      "metadata": {
        "id": "lDIl3Fx45TDH",
        "colab": {
          "base_uri": "https://localhost:8080/",
          "height": 295
        },
        "outputId": "8e0c4cbd-c0c9-4e7e-b3a0-a125053783b9"
      },
      "source": [
        "import matplotlib.pyplot as plt\n",
        "plt.plot(history.history['loss'], label=\"Training\")\n",
        "plt.plot(history.history['val_loss'], label=\"Validation\")\n",
        "plt.title('Model loss')\n",
        "plt.ylabel('Loss')\n",
        "plt.xlabel('Epochs')\n",
        "plt.show()"
      ],
      "execution_count": null,
      "outputs": [
        {
          "output_type": "display_data",
          "data": {
            "image/png": "[encoded data removed]",
            "text/plain": [
              "<Figure size 432x288 with 1 Axes>"
            ]
          },
          "metadata": {
            "tags": [],
            "needs_background": "light"
          }
        }
      ]
    },
    {
      "cell_type": "code",
      "metadata": {
        "id": "y5Sx1VKm5W6h",
        "colab": {
          "base_uri": "https://localhost:8080/",
          "height": 295
        },
        "outputId": "c82fa1c1-07d7-49fa-f7d9-51e8837d7a5e"
      },
      "source": [
        "# Plot accuracy values\n",
        "plt.plot(history.history['accuracy'], label=\"Training\")\n",
        "plt.plot(history.history['val_accuracy'], label=\"Validation\")\n",
        "plt.title('Model accuracy')\n",
        "plt.ylabel('Accuracy')\n",
        "plt.xlabel('Epochs')\n",
        "plt.legend()\n",
        "plt.show()"
      ],
      "execution_count": null,
      "outputs": [
        {
          "output_type": "display_data",
          "data": {
            "image/png": "[encoded data removed]",
            "text/plain": [
              "<Figure size 432x288 with 1 Axes>"
            ]
          },
          "metadata": {
            "tags": [],
            "needs_background": "light"
          }
        }
      ]
    },
    {
      "cell_type": "markdown",
      "metadata": {
        "id": "eV4ua2UR6c8G"
      },
      "source": [
        "# **MODEL COMPARISON**"
      ]
    },
    {
      "cell_type": "markdown",
      "metadata": {
        "id": "mpkMfU1y5rNd"
      },
      "source": [
        "|Model Name|Accuracy|\n",
        "|---|---|\n",
        "|CNN Model|88.23%|\n",
        "|RNN Model|89.45%|\n",
        "|Sequential Model with LSTM Layer|99%|\n"
      ]
    }
  ]
}